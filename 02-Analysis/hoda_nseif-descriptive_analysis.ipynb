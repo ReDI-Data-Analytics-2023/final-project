{
 "cells": [
  {
   "cell_type": "code",
   "execution_count": 1,
   "id": "926553a0",
   "metadata": {},
   "outputs": [],
   "source": [
    "#Importing libraries\n",
    "\n",
    "import pandas as pd\n",
    "import numpy as np\n",
    "import matplotlib.pyplot as plt\n",
    "import seaborn as sns\n",
    "%matplotlib inline"
   ]
  },
  {
   "cell_type": "code",
   "execution_count": 2,
   "id": "fef92f7c",
   "metadata": {},
   "outputs": [],
   "source": [
    "# Dataset load\n",
    "\n",
    "df=pd.read_csv('../datasets/cleaned_data.csv')"
   ]
  },
  {
   "cell_type": "code",
   "execution_count": 3,
   "id": "63e34e2f",
   "metadata": {},
   "outputs": [],
   "source": [
    "# Choosing numerical columns for visualization\n",
    "\n",
    "numerical_columns=['age','avg_hours_spent_daily','worried_level','difficulty_concentrating']"
   ]
  },
  {
   "cell_type": "code",
   "execution_count": 4,
   "id": "c01cb741",
   "metadata": {},
   "outputs": [
    {
     "name": "stdout",
     "output_type": "stream",
     "text": [
      "Mean Age: 26.135135135135137\n",
      "Median Age: 22.0\n",
      "Standard Deviation of Age: 9.915078607040076\n"
     ]
    }
   ],
   "source": [
    "\n",
    "# Calculate the mean, median, and standard deviation of the \"Age\" column\n",
    "age_mean = df['age'].mean()\n",
    "age_median = df['age'].median()\n",
    "age_std = df['age'].std()\n",
    "\n",
    "# Display the results\n",
    "print(\"Mean Age:\", age_mean)\n",
    "print(\"Median Age:\", age_median)\n",
    "print(\"Standard Deviation of Age:\", age_std)"
   ]
  },
  {
   "cell_type": "code",
   "execution_count": 5,
   "id": "ae736168",
   "metadata": {},
   "outputs": [
    {
     "name": "stdout",
     "output_type": "stream",
     "text": [
      "Mean average_hours_spent_daily: 3.9085239085239087\n",
      "Median average_hours_spent_daily: 4.0\n",
      "Standard Deviation of average_hours_spent_daily: 1.5903190534023957\n"
     ]
    }
   ],
   "source": [
    "# Calculate the mean, median, and standard deviation of the \"Age\" column\n",
    "average_hours_spent_daily_mean = df['avg_hours_spent_daily'].mean()\n",
    "average_hours_spent_daily_median = df['avg_hours_spent_daily'].median()\n",
    "average_hours_spent_daily_std = df['avg_hours_spent_daily'].std()\n",
    "\n",
    "# Display the results\n",
    "print(\"Mean average_hours_spent_daily:\", average_hours_spent_daily_mean)\n",
    "print(\"Median average_hours_spent_daily:\", average_hours_spent_daily_median)\n",
    "print(\"Standard Deviation of average_hours_spent_daily:\", average_hours_spent_daily_std)"
   ]
  },
  {
   "cell_type": "code",
   "execution_count": 6,
   "id": "4d63bef8",
   "metadata": {},
   "outputs": [
    {
     "name": "stdout",
     "output_type": "stream",
     "text": [
      "Mean worried_level: 3.5592515592515594\n",
      "Median worried_level: 4.0\n",
      "Standard Deviation of worried_level: 1.2833560581548566\n"
     ]
    }
   ],
   "source": [
    "# Calculate the mean, median, and standard deviation of the \"Age\" column\n",
    "worried_level_mean = df['worried_level'].mean()\n",
    "worried_level_median = df['worried_level'].median()\n",
    "worried_level_std = df['worried_level'].std()\n",
    "\n",
    "# Display the results\n",
    "print(\"Mean worried_level:\", worried_level_mean)\n",
    "print(\"Median worried_level:\", worried_level_median)\n",
    "print(\"Standard Deviation of worried_level:\", worried_level_std)"
   ]
  },
  {
   "cell_type": "code",
   "execution_count": 7,
   "id": "7a62417a",
   "metadata": {},
   "outputs": [
    {
     "name": "stdout",
     "output_type": "stream",
     "text": [
      "Mean difficulty_concentrating: 3.2453222453222454\n",
      "Median difficulty_concentrating: 3.0\n",
      "Standard Deviation of difficulty_concentrating: 1.347104901146015\n"
     ]
    }
   ],
   "source": [
    "# Calculate the mean, median, and standard deviation of the \"Age\" column\n",
    "difficulty_concentrating_mean = df['difficulty_concentrating'].mean()\n",
    "difficulty_concentrating_median = df['difficulty_concentrating'].median()\n",
    "difficulty_concentrating_std = df['difficulty_concentrating'].std()\n",
    "\n",
    "# Display the results\n",
    "print(\"Mean difficulty_concentrating:\", difficulty_concentrating_mean)\n",
    "print(\"Median difficulty_concentrating:\", difficulty_concentrating_median)\n",
    "print(\"Standard Deviation of difficulty_concentrating:\", difficulty_concentrating_std)"
   ]
  }
 ],
 "metadata": {
  "kernelspec": {
   "display_name": "Python 3 (ipykernel)",
   "language": "python",
   "name": "python3"
  },
  "language_info": {
   "codemirror_mode": {
    "name": "ipython",
    "version": 3
   },
   "file_extension": ".py",
   "mimetype": "text/x-python",
   "name": "python",
   "nbconvert_exporter": "python",
   "pygments_lexer": "ipython3",
   "version": "3.10.0"
  }
 },
 "nbformat": 4,
 "nbformat_minor": 5
}
