{
 "cells": [
  {
   "cell_type": "code",
   "execution_count": null,
   "metadata": {},
   "outputs": [],
   "source": [
    "# read csv file\n",
    "import csv\n",
    "import pandas as pd\n",
    "import numpy as np\n",
    "\n",
    "\n",
    "# Specify the path to your CSV file\n",
    "csv_file_path = '../datasets/social_media_usage_and_mental_health.csv'\n",
    "\n",
    "df = pd.read_csv(csv_file_path)\n",
    "\n",
    "\n",
    "\n",
    "\n"
   ]
  },
  {
   "cell_type": "code",
   "execution_count": null,
   "metadata": {},
   "outputs": [],
   "source": [
    "# Convert 'Timestamp' column to pandas datetime format\n",
    "df['Timestamp'] = pd.to_datetime(df['Timestamp'], format='%m/%d/%Y %H:%M:%S')\n",
    "\n",
    "# Create 'Date' and 'Time' columns\n",
    "df['Date'] = df['Timestamp'].dt.date\n",
    "df['Time'] = df['Timestamp'].dt.time\n",
    "\n",
    "# Display the resulting DataFrame\n",
    "#print(df)\n",
    "\n",
    "# Save to a new file\n",
    "#df.to_csv('./datasets/modified_dataset.csv', index=False)\n",
    "\n"
   ]
  },
  {
   "cell_type": "code",
   "execution_count": null,
   "metadata": {},
   "outputs": [],
   "source": [
    "# Identify and remove entire duplicate rows\n",
    "df.drop_duplicates()\n",
    "\n",
    "# Display the resulting DataFrame without duplicates\n",
    "#print(df)\n",
    "\n",
    "\n"
   ]
  },
  {
   "cell_type": "code",
   "execution_count": null,
   "metadata": {},
   "outputs": [],
   "source": [
    "# By Hoda and Raghad\n",
    "\n",
    "# Replace values in the \"Gender\" column\n",
    "valid_genders = ['Male', 'Female']\n",
    "df['2. Gender'] = np.where(df['2. Gender'].isin(valid_genders), df['2. Gender'], 'Other')\n",
    "\n",
    "\n",
    "# Save to a new file\n",
    "#df.to_csv('./datasets/modified_dataset.csv', index=False)"
   ]
  }
 ],
 "metadata": {
  "kernelspec": {
   "display_name": "Python 3 (ipykernel)",
   "language": "python",
   "name": "python3"
  },
  "language_info": {
   "codemirror_mode": {
    "name": "ipython",
    "version": 3
   },
   "file_extension": ".py",
   "mimetype": "text/x-python",
   "name": "python",
   "nbconvert_exporter": "python",
   "pygments_lexer": "ipython3",
   "version": "3.10.0"
  }
 },
 "nbformat": 4,
 "nbformat_minor": 2
}
