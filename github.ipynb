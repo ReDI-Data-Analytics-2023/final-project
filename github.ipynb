{
  "cells": [
    {
      "cell_type": "code",
      "execution_count": null,
      "id": "3be6ec2c",
      "metadata": {
        "colab": {
          "base_uri": "https://localhost:8080/"
        },
        "id": "3be6ec2c",
        "outputId": "d91c076a-5f18-49c4-8c8d-09d45ec511c0"
      },
      "outputs": [
        {
          "output_type": "stream",
          "name": "stdout",
          "text": [
            "Cloning into 'test'...\n",
            "remote: Enumerating objects: 3, done.\u001b[K\n",
            "remote: Counting objects: 100% (3/3), done.\u001b[K\n",
            "remote: Total 3 (delta 0), reused 0 (delta 0), pack-reused 0\u001b[K\n",
            "Receiving objects: 100% (3/3), done.\n"
          ]
        }
      ],
      "source": [
        "!git clone https://github.com/fcole90/test.git"
      ]
    },
    {
      "cell_type": "code",
      "execution_count": null,
      "id": "5b3340e9",
      "metadata": {
        "id": "5b3340e9"
      },
      "outputs": [],
      "source": [
        "import subprocess\n",
        "import shlex\n",
        "def run_command(command: str, no_print=False, throw_on_error=False):\n",
        "    result = subprocess.run(\n",
        "        shlex.split(command),\n",
        "        capture_output = True,\n",
        "        text=True,\n",
        "        cwd='test'  # TODO: remove\n",
        "    )\n",
        "    if not no_print:\n",
        "      if len(result.stderr) > 0:\n",
        "        print('\\033[1;31m', result.stderr, '\\033[0;0m', sep='')\n",
        "        if throw_on_error:\n",
        "          raise Exception(result.stderr)\n",
        "      if len(result.stdout) > 0:\n",
        "        print(result.stdout)\n",
        "\n",
        "    return result.stdout.strip()\n",
        "\n",
        "import re\n",
        "def get_clean_text(text: str):\n",
        "    return re.sub('[^0-9a-zA-Z]+', '_', text)"
      ]
    },
    {
      "cell_type": "code",
      "source": [
        "feature_branch = ''\n",
        "\n",
        "def create_branch():\n",
        "  global feature_branch\n",
        "  # Check the status is fine\n",
        "  feature_branch = run_command('git branch --show-current', False)\n",
        "  if feature_branch != 'main':\n",
        "    answer = input(f'You are in branch {feature_branch}. Do you want to create a new branch? [y/N] ')\n",
        "    if not answer.lower() in ['y', 'yes']:\n",
        "      print('Remained in branch', feature_branch)\n",
        "      return\n",
        "    print('Creating a new branch from main...')\n",
        "    run_command('git checkout main')\n",
        "    run_command('git pull')\n",
        "\n",
        "  # Branch creation\n",
        "  user_name = get_clean_text(input('What is your first name? ').lower())\n",
        "  feature_name = get_clean_text(input('Write a short feature description (e.g. \\'perform initial analysis\\') ').lower())\n",
        "  feature_branch = f'{user_name}/{feature_name}'\n",
        "  run_command(f'git checkout -b {feature_branch}')\n",
        "  print('Now you are in your new branch:', feature_branch)\n",
        "\n",
        "create_branch()"
      ],
      "metadata": {
        "colab": {
          "base_uri": "https://localhost:8080/"
        },
        "id": "syP4dwR9p8VI",
        "outputId": "d47ea9cf-de5a-4b27-c104-354be4c9f8cd"
      },
      "id": "syP4dwR9p8VI",
      "execution_count": null,
      "outputs": [
        {
          "output_type": "stream",
          "name": "stdout",
          "text": [
            "pop/perform_initial_analysis\n",
            "\n",
            "You are in branch pop/perform_initial_analysis. Do you want to create a new branch? [y/N] \n",
            "Remained in branch pop/perform_initial_analysis\n"
          ]
        }
      ]
    },
    {
      "cell_type": "code",
      "source": [
        "run_command('touch test.txt')"
      ],
      "metadata": {
        "colab": {
          "base_uri": "https://localhost:8080/",
          "height": 35
        },
        "id": "i58EsMRr47xF",
        "outputId": "9d6618b6-6826-4e6c-c011-c0bc85cd3c79"
      },
      "id": "i58EsMRr47xF",
      "execution_count": null,
      "outputs": [
        {
          "output_type": "execute_result",
          "data": {
            "text/plain": [
              "''"
            ],
            "application/vnd.google.colaboratory.intrinsic+json": {
              "type": "string"
            }
          },
          "metadata": {},
          "execution_count": 81
        }
      ]
    },
    {
      "cell_type": "code",
      "source": [
        "# Check changes status\n",
        "run_command('git status')"
      ],
      "metadata": {
        "colab": {
          "base_uri": "https://localhost:8080/",
          "height": 178
        },
        "id": "WXN2ZBV6uTXM",
        "outputId": "7ca026db-22f3-4541-cc5f-3e3952ba856a"
      },
      "id": "WXN2ZBV6uTXM",
      "execution_count": null,
      "outputs": [
        {
          "output_type": "stream",
          "name": "stdout",
          "text": [
            "On branch pop/perform_initial_analysis\n",
            "Untracked files:\n",
            "  (use \"git add <file>...\" to include in what will be committed)\n",
            "\ttest.txt\n",
            "\n",
            "nothing added to commit but untracked files present (use \"git add\" to track)\n",
            "\n"
          ]
        },
        {
          "output_type": "execute_result",
          "data": {
            "text/plain": [
              "'On branch pop/perform_initial_analysis\\nUntracked files:\\n  (use \"git add <file>...\" to include in what will be committed)\\n\\ttest.txt\\n\\nnothing added to commit but untracked files present (use \"git add\" to track)'"
            ],
            "application/vnd.google.colaboratory.intrinsic+json": {
              "type": "string"
            }
          },
          "metadata": {},
          "execution_count": 82
        }
      ]
    },
    {
      "cell_type": "code",
      "execution_count": null,
      "id": "4884bc46",
      "metadata": {
        "colab": {
          "base_uri": "https://localhost:8080/"
        },
        "id": "4884bc46",
        "outputId": "b3c6bc62-b6ba-4e67-f1df-68b71f0242f4"
      },
      "outputs": [
        {
          "output_type": "stream",
          "name": "stdout",
          "text": [
            "You can see above the paths of the edited files.\n",
            "Enter here the path to add to your list of changes: ttt\n",
            "\u001b[1;31mfatal: pathspec 'ttt' did not match any files\n",
            "\u001b[0;0m\n",
            "On branch pop/perform_initial_analysis\n",
            "nothing to commit, working tree clean\n",
            "\n",
            "Changes ready to be saved: ttt\n"
          ]
        }
      ],
      "source": [
        "# Add files to the list of changes\n",
        "edited_file_path=''\n",
        "def add_file_to_changes():\n",
        "  global edited_file_path\n",
        "  print('You can see above the paths of the edited files.')\n",
        "  edited_file_path=input('Enter here the path to add to your list of changes: ')\n",
        "  if len(edited_file_path) == 0:\n",
        "    print('No file selected.')\n",
        "    return\n",
        "\n",
        "\n",
        "\n",
        "  # Add file to git staging area\n",
        "  run_command(f'git add {edited_file_path}')\n",
        "  run_command('git status')\n",
        "  print('Changes ready to be saved:', edited_file_path)\n",
        "\n",
        "add_file_to_changes()"
      ]
    },
    {
      "cell_type": "code",
      "execution_count": null,
      "id": "bb6a35de",
      "metadata": {
        "colab": {
          "base_uri": "https://localhost:8080/"
        },
        "id": "bb6a35de",
        "outputId": "e2b59795-fec2-4384-9bac-bbdb33b817db"
      },
      "outputs": [
        {
          "output_type": "stream",
          "name": "stdout",
          "text": [
            "Write a short description of what you changed: \n",
            "\u001b[1;31merror: pathspec 'ttt' did not match any file(s) known to git\n",
            "\u001b[0;0m\n",
            "Changes saved locally! Updated ttt\n"
          ]
        }
      ],
      "source": [
        "# What did you change?\n",
        "COMMIT_MESSAGE=input('Write a short description of what you changed: ')\n",
        "\n",
        "commit_message = COMMIT_MESSAGE if COMMIT_MESSAGE != '' else f'Updated {edited_file_path}'\n",
        "run_command(f'git commit -m {commit_message}')\n",
        "print('Changes saved locally!', commit_message)"
      ]
    },
    {
      "cell_type": "code",
      "execution_count": null,
      "id": "4a2c2522",
      "metadata": {
        "colab": {
          "base_uri": "https://localhost:8080/"
        },
        "id": "4a2c2522",
        "outputId": "3144ca0d-ce34-42b4-c117-7fa57d2a8f01"
      },
      "outputs": [
        {
          "output_type": "stream",
          "name": "stdout",
          "text": [
            "About to push changes on GitHub.com...\n",
            "Sending our changes...\n",
            "\u001b[1;31mfatal: could not read Username for 'https://github.com': No such device or address\n",
            "\u001b[0;0m\n",
            "Changes saved on GitHub.com!\n"
          ]
        }
      ],
      "source": [
        "print('About to push changes on GitHub.com...')\n",
        "print('Sending our changes...')\n",
        "run_command(f'git push --set-upstream origin {feature_branch}')\n",
        "print('Changes saved on GitHub.com!')"
      ]
    }
  ],
  "metadata": {
    "kernelspec": {
      "display_name": "Python 3 (ipykernel)",
      "language": "python",
      "name": "python3"
    },
    "language_info": {
      "codemirror_mode": {
        "name": "ipython",
        "version": 3
      },
      "file_extension": ".py",
      "mimetype": "text/x-python",
      "name": "python",
      "nbconvert_exporter": "python",
      "pygments_lexer": "ipython3",
      "version": "3.11.5"
    },
    "colab": {
      "provenance": []
    }
  },
  "nbformat": 4,
  "nbformat_minor": 5
}