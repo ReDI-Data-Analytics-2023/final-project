{
 "cells": [
  {
   "cell_type": "code",
   "execution_count": 8,
   "id": "5b3340e9",
   "metadata": {
    "id": "5b3340e9"
   },
   "outputs": [],
   "source": [
    "import subprocess\n",
    "import shlex\n",
    "def run_command(command: str, no_print=False, throw_on_error=False):\n",
    "    result = subprocess.run(\n",
    "        shlex.split(command),\n",
    "        capture_output = True,\n",
    "        text=True,\n",
    "    )\n",
    "    if not no_print:\n",
    "      if len(result.stderr) > 0:\n",
    "        print('\\033[1;31m', result.stderr, '\\033[0;0m', sep='')\n",
    "        if throw_on_error:\n",
    "          raise Exception(result.stderr)\n",
    "      if len(result.stdout) > 0:\n",
    "        print(result.stdout)\n",
    "\n",
    "    return result.stdout.strip()\n",
    "\n",
    "import re\n",
    "def get_clean_text(text: str):\n",
    "    return re.sub('[^0-9a-zA-Z]+', '_', text)"
   ]
  },
  {
   "cell_type": "code",
   "execution_count": 6,
   "id": "syP4dwR9p8VI",
   "metadata": {
    "colab": {
     "base_uri": "https://localhost:8080/"
    },
    "id": "syP4dwR9p8VI",
    "outputId": "d47ea9cf-de5a-4b27-c104-354be4c9f8cd"
   },
   "outputs": [
    {
     "ename": "FileNotFoundError",
     "evalue": "[Errno 2] No such file or directory: 'test'",
     "output_type": "error",
     "traceback": [
      "\u001b[0;31m---------------------------------------------------------------------------\u001b[0m",
      "\u001b[0;31mFileNotFoundError\u001b[0m                         Traceback (most recent call last)",
      "Cell \u001b[0;32mIn[6], line 23\u001b[0m\n\u001b[1;32m     20\u001b[0m   run_command(\u001b[38;5;124mf\u001b[39m\u001b[38;5;124m'\u001b[39m\u001b[38;5;124mgit checkout -b \u001b[39m\u001b[38;5;132;01m{\u001b[39;00mfeature_branch\u001b[38;5;132;01m}\u001b[39;00m\u001b[38;5;124m'\u001b[39m)\n\u001b[1;32m     21\u001b[0m   \u001b[38;5;28mprint\u001b[39m(\u001b[38;5;124m'\u001b[39m\u001b[38;5;124mNow you are in your new branch:\u001b[39m\u001b[38;5;124m'\u001b[39m, feature_branch)\n\u001b[0;32m---> 23\u001b[0m create_branch()\n",
      "Cell \u001b[0;32mIn[6], line 6\u001b[0m, in \u001b[0;36mcreate_branch\u001b[0;34m()\u001b[0m\n\u001b[1;32m      4\u001b[0m \u001b[38;5;28;01mglobal\u001b[39;00m feature_branch\n\u001b[1;32m      5\u001b[0m \u001b[38;5;66;03m# Check the status is fine\u001b[39;00m\n\u001b[0;32m----> 6\u001b[0m feature_branch \u001b[38;5;241m=\u001b[39m run_command(\u001b[38;5;124m'\u001b[39m\u001b[38;5;124mgit branch --show-current\u001b[39m\u001b[38;5;124m'\u001b[39m, \u001b[38;5;28;01mFalse\u001b[39;00m)\n\u001b[1;32m      7\u001b[0m \u001b[38;5;28;01mif\u001b[39;00m feature_branch \u001b[38;5;241m!=\u001b[39m \u001b[38;5;124m'\u001b[39m\u001b[38;5;124mmain\u001b[39m\u001b[38;5;124m'\u001b[39m:\n\u001b[1;32m      8\u001b[0m   answer \u001b[38;5;241m=\u001b[39m \u001b[38;5;28minput\u001b[39m(\u001b[38;5;124mf\u001b[39m\u001b[38;5;124m'\u001b[39m\u001b[38;5;124mYou are in branch \u001b[39m\u001b[38;5;132;01m{\u001b[39;00mfeature_branch\u001b[38;5;132;01m}\u001b[39;00m\u001b[38;5;124m. Do you want to create a new branch? [y/N] \u001b[39m\u001b[38;5;124m'\u001b[39m)\n",
      "Cell \u001b[0;32mIn[5], line 4\u001b[0m, in \u001b[0;36mrun_command\u001b[0;34m(command, no_print, throw_on_error)\u001b[0m\n\u001b[1;32m      3\u001b[0m \u001b[38;5;28;01mdef\u001b[39;00m \u001b[38;5;21mrun_command\u001b[39m(command: \u001b[38;5;28mstr\u001b[39m, no_print\u001b[38;5;241m=\u001b[39m\u001b[38;5;28;01mFalse\u001b[39;00m, throw_on_error\u001b[38;5;241m=\u001b[39m\u001b[38;5;28;01mFalse\u001b[39;00m):\n\u001b[0;32m----> 4\u001b[0m     result \u001b[38;5;241m=\u001b[39m subprocess\u001b[38;5;241m.\u001b[39mrun(\n\u001b[1;32m      5\u001b[0m         shlex\u001b[38;5;241m.\u001b[39msplit(command),\n\u001b[1;32m      6\u001b[0m         capture_output \u001b[38;5;241m=\u001b[39m \u001b[38;5;28;01mTrue\u001b[39;00m,\n\u001b[1;32m      7\u001b[0m         text\u001b[38;5;241m=\u001b[39m\u001b[38;5;28;01mTrue\u001b[39;00m,\n\u001b[1;32m      8\u001b[0m         cwd\u001b[38;5;241m=\u001b[39m\u001b[38;5;124m'\u001b[39m\u001b[38;5;124mtest\u001b[39m\u001b[38;5;124m'\u001b[39m  \u001b[38;5;66;03m# TODO: remove\u001b[39;00m\n\u001b[1;32m      9\u001b[0m     )\n\u001b[1;32m     10\u001b[0m     \u001b[38;5;28;01mif\u001b[39;00m \u001b[38;5;129;01mnot\u001b[39;00m no_print:\n\u001b[1;32m     11\u001b[0m       \u001b[38;5;28;01mif\u001b[39;00m \u001b[38;5;28mlen\u001b[39m(result\u001b[38;5;241m.\u001b[39mstderr) \u001b[38;5;241m>\u001b[39m \u001b[38;5;241m0\u001b[39m:\n",
      "File \u001b[0;32m~/anaconda3/lib/python3.11/subprocess.py:548\u001b[0m, in \u001b[0;36mrun\u001b[0;34m(input, capture_output, timeout, check, *popenargs, **kwargs)\u001b[0m\n\u001b[1;32m    545\u001b[0m     kwargs[\u001b[38;5;124m'\u001b[39m\u001b[38;5;124mstdout\u001b[39m\u001b[38;5;124m'\u001b[39m] \u001b[38;5;241m=\u001b[39m PIPE\n\u001b[1;32m    546\u001b[0m     kwargs[\u001b[38;5;124m'\u001b[39m\u001b[38;5;124mstderr\u001b[39m\u001b[38;5;124m'\u001b[39m] \u001b[38;5;241m=\u001b[39m PIPE\n\u001b[0;32m--> 548\u001b[0m \u001b[38;5;28;01mwith\u001b[39;00m Popen(\u001b[38;5;241m*\u001b[39mpopenargs, \u001b[38;5;241m*\u001b[39m\u001b[38;5;241m*\u001b[39mkwargs) \u001b[38;5;28;01mas\u001b[39;00m process:\n\u001b[1;32m    549\u001b[0m     \u001b[38;5;28;01mtry\u001b[39;00m:\n\u001b[1;32m    550\u001b[0m         stdout, stderr \u001b[38;5;241m=\u001b[39m process\u001b[38;5;241m.\u001b[39mcommunicate(\u001b[38;5;28minput\u001b[39m, timeout\u001b[38;5;241m=\u001b[39mtimeout)\n",
      "File \u001b[0;32m~/anaconda3/lib/python3.11/subprocess.py:1026\u001b[0m, in \u001b[0;36mPopen.__init__\u001b[0;34m(self, args, bufsize, executable, stdin, stdout, stderr, preexec_fn, close_fds, shell, cwd, env, universal_newlines, startupinfo, creationflags, restore_signals, start_new_session, pass_fds, user, group, extra_groups, encoding, errors, text, umask, pipesize, process_group)\u001b[0m\n\u001b[1;32m   1022\u001b[0m         \u001b[38;5;28;01mif\u001b[39;00m \u001b[38;5;28mself\u001b[39m\u001b[38;5;241m.\u001b[39mtext_mode:\n\u001b[1;32m   1023\u001b[0m             \u001b[38;5;28mself\u001b[39m\u001b[38;5;241m.\u001b[39mstderr \u001b[38;5;241m=\u001b[39m io\u001b[38;5;241m.\u001b[39mTextIOWrapper(\u001b[38;5;28mself\u001b[39m\u001b[38;5;241m.\u001b[39mstderr,\n\u001b[1;32m   1024\u001b[0m                     encoding\u001b[38;5;241m=\u001b[39mencoding, errors\u001b[38;5;241m=\u001b[39merrors)\n\u001b[0;32m-> 1026\u001b[0m     \u001b[38;5;28mself\u001b[39m\u001b[38;5;241m.\u001b[39m_execute_child(args, executable, preexec_fn, close_fds,\n\u001b[1;32m   1027\u001b[0m                         pass_fds, cwd, env,\n\u001b[1;32m   1028\u001b[0m                         startupinfo, creationflags, shell,\n\u001b[1;32m   1029\u001b[0m                         p2cread, p2cwrite,\n\u001b[1;32m   1030\u001b[0m                         c2pread, c2pwrite,\n\u001b[1;32m   1031\u001b[0m                         errread, errwrite,\n\u001b[1;32m   1032\u001b[0m                         restore_signals,\n\u001b[1;32m   1033\u001b[0m                         gid, gids, uid, umask,\n\u001b[1;32m   1034\u001b[0m                         start_new_session, process_group)\n\u001b[1;32m   1035\u001b[0m \u001b[38;5;28;01mexcept\u001b[39;00m:\n\u001b[1;32m   1036\u001b[0m     \u001b[38;5;66;03m# Cleanup if the child failed starting.\u001b[39;00m\n\u001b[1;32m   1037\u001b[0m     \u001b[38;5;28;01mfor\u001b[39;00m f \u001b[38;5;129;01min\u001b[39;00m \u001b[38;5;28mfilter\u001b[39m(\u001b[38;5;28;01mNone\u001b[39;00m, (\u001b[38;5;28mself\u001b[39m\u001b[38;5;241m.\u001b[39mstdin, \u001b[38;5;28mself\u001b[39m\u001b[38;5;241m.\u001b[39mstdout, \u001b[38;5;28mself\u001b[39m\u001b[38;5;241m.\u001b[39mstderr)):\n",
      "File \u001b[0;32m~/anaconda3/lib/python3.11/subprocess.py:1950\u001b[0m, in \u001b[0;36mPopen._execute_child\u001b[0;34m(self, args, executable, preexec_fn, close_fds, pass_fds, cwd, env, startupinfo, creationflags, shell, p2cread, p2cwrite, c2pread, c2pwrite, errread, errwrite, restore_signals, gid, gids, uid, umask, start_new_session, process_group)\u001b[0m\n\u001b[1;32m   1948\u001b[0m     \u001b[38;5;28;01mif\u001b[39;00m errno_num \u001b[38;5;241m!=\u001b[39m \u001b[38;5;241m0\u001b[39m:\n\u001b[1;32m   1949\u001b[0m         err_msg \u001b[38;5;241m=\u001b[39m os\u001b[38;5;241m.\u001b[39mstrerror(errno_num)\n\u001b[0;32m-> 1950\u001b[0m     \u001b[38;5;28;01mraise\u001b[39;00m child_exception_type(errno_num, err_msg, err_filename)\n\u001b[1;32m   1951\u001b[0m \u001b[38;5;28;01mraise\u001b[39;00m child_exception_type(err_msg)\n",
      "\u001b[0;31mFileNotFoundError\u001b[0m: [Errno 2] No such file or directory: 'test'"
     ]
    }
   ],
   "source": [
    "feature_branch = ''\n",
    "\n",
    "def create_branch():\n",
    "  global feature_branch\n",
    "  # Check the status is fine\n",
    "  feature_branch = run_command('git branch --show-current', False)\n",
    "  if feature_branch != 'main':\n",
    "    answer = input(f'You are in branch {feature_branch}. Do you want to create a new branch? [y/N] ')\n",
    "    if not answer.lower() in ['y', 'yes']:\n",
    "      print('Remained in branch', feature_branch)\n",
    "      return\n",
    "    print('Creating a new branch from main...')\n",
    "    run_command('git checkout main')\n",
    "    run_command('git pull')\n",
    "\n",
    "  # Branch creation\n",
    "  user_name = get_clean_text(input('What is your first name? ').lower())\n",
    "  feature_name = get_clean_text(input('Write a short feature description (e.g. \\'perform initial analysis\\') ').lower())\n",
    "  feature_branch = f'{user_name}/{feature_name}'\n",
    "  run_command(f'git checkout -b {feature_branch}')\n",
    "  print('Now you are in your new branch:', feature_branch)\n",
    "\n",
    "create_branch()"
   ]
  },
  {
   "cell_type": "code",
   "execution_count": null,
   "id": "i58EsMRr47xF",
   "metadata": {
    "colab": {
     "base_uri": "https://localhost:8080/",
     "height": 35
    },
    "id": "i58EsMRr47xF",
    "outputId": "9d6618b6-6826-4e6c-c011-c0bc85cd3c79"
   },
   "outputs": [],
   "source": [
    "run_command('touch test.txt')"
   ]
  },
  {
   "cell_type": "code",
   "execution_count": null,
   "id": "WXN2ZBV6uTXM",
   "metadata": {
    "colab": {
     "base_uri": "https://localhost:8080/",
     "height": 178
    },
    "id": "WXN2ZBV6uTXM",
    "outputId": "7ca026db-22f3-4541-cc5f-3e3952ba856a"
   },
   "outputs": [],
   "source": [
    "# Check changes status\n",
    "run_command('git status')"
   ]
  },
  {
   "cell_type": "code",
   "execution_count": null,
   "id": "4884bc46",
   "metadata": {
    "colab": {
     "base_uri": "https://localhost:8080/"
    },
    "id": "4884bc46",
    "outputId": "b3c6bc62-b6ba-4e67-f1df-68b71f0242f4"
   },
   "outputs": [],
   "source": [
    "# Add files to the list of changes\n",
    "edited_file_path=''\n",
    "def add_file_to_changes():\n",
    "  global edited_file_path\n",
    "  print('You can see above the paths of the edited files.')\n",
    "  edited_file_path=input('Enter here the path to add to your list of changes: ')\n",
    "  if len(edited_file_path) == 0:\n",
    "    print('No file selected.')\n",
    "    return\n",
    "\n",
    "\n",
    "\n",
    "  # Add file to git staging area\n",
    "  run_command(f'git add {edited_file_path}')\n",
    "  run_command('git status')\n",
    "  print('Changes ready to be saved:', edited_file_path)\n",
    "\n",
    "add_file_to_changes()"
   ]
  },
  {
   "cell_type": "code",
   "execution_count": null,
   "id": "bb6a35de",
   "metadata": {
    "colab": {
     "base_uri": "https://localhost:8080/"
    },
    "id": "bb6a35de",
    "outputId": "e2b59795-fec2-4384-9bac-bbdb33b817db"
   },
   "outputs": [],
   "source": [
    "# What did you change?\n",
    "COMMIT_MESSAGE=input('Write a short description of what you changed: ')\n",
    "\n",
    "commit_message = COMMIT_MESSAGE if COMMIT_MESSAGE != '' else f'Updated {edited_file_path}'\n",
    "run_command(f'git commit -m {commit_message}')\n",
    "print('Changes saved locally!', commit_message)"
   ]
  },
  {
   "cell_type": "code",
   "execution_count": null,
   "id": "4a2c2522",
   "metadata": {
    "colab": {
     "base_uri": "https://localhost:8080/"
    },
    "id": "4a2c2522",
    "outputId": "3144ca0d-ce34-42b4-c117-7fa57d2a8f01"
   },
   "outputs": [],
   "source": [
    "print('About to push changes on GitHub.com...')\n",
    "print('Sending our changes...')\n",
    "run_command(f'git push --set-upstream origin {feature_branch}')\n",
    "print('Changes saved on GitHub.com!')"
   ]
  }
 ],
 "metadata": {
  "colab": {
   "provenance": []
  },
  "kernelspec": {
   "display_name": "Python 3 (ipykernel)",
   "language": "python",
   "name": "python3"
  },
  "language_info": {
   "codemirror_mode": {
    "name": "ipython",
    "version": 3
   },
   "file_extension": ".py",
   "mimetype": "text/x-python",
   "name": "python",
   "nbconvert_exporter": "python",
   "pygments_lexer": "ipython3",
   "version": "3.11.5"
  }
 },
 "nbformat": 4,
 "nbformat_minor": 5
}
