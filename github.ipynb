{
  "cells": [
    {
      "cell_type": "code",
      "execution_count": 23,
      "metadata": {},
      "outputs": [
        {
          "name": "stdout",
          "output_type": "stream",
          "text": [
            "Collecting nbdime\n",
            "  Obtaining dependency information for nbdime from https://files.pythonhosted.org/packages/ee/f6/0bf85aa4546888034d14aba021249af9347cebeaf11f510a9a7cd871a9ea/nbdime-4.0.1-py3-none-any.whl.metadata\n",
            "  Downloading nbdime-4.0.1-py3-none-any.whl.metadata (9.5 kB)\n",
            "Collecting colorama (from nbdime)\n",
            "  Downloading colorama-0.4.6-py2.py3-none-any.whl (25 kB)\n",
            "Collecting gitpython!=2.1.4,!=2.1.5,!=2.1.6 (from nbdime)\n",
            "  Obtaining dependency information for gitpython!=2.1.4,!=2.1.5,!=2.1.6 from https://files.pythonhosted.org/packages/8d/c4/82b858fb6483dfb5e338123c154d19c043305b01726a67d89532b8f8f01b/GitPython-3.1.40-py3-none-any.whl.metadata\n",
            "  Downloading GitPython-3.1.40-py3-none-any.whl.metadata (12 kB)\n",
            "Requirement already satisfied: jinja2>=2.9 in /Users/giorgiafaedda/anaconda3/envs/redi/lib/python3.10/site-packages (from nbdime) (3.1.2)\n",
            "Requirement already satisfied: jupyter-server in /Users/giorgiafaedda/anaconda3/envs/redi/lib/python3.10/site-packages (from nbdime) (1.23.4)\n",
            "Collecting jupyter-server-mathjax>=0.2.2 (from nbdime)\n",
            "  Downloading jupyter_server_mathjax-0.2.6-py3-none-any.whl (3.1 MB)\n",
            "\u001b[2K     \u001b[90m━━━━━━━━━━━━━━━━━━━━━━━━━━━━━━━━━━━━━━━━\u001b[0m \u001b[32m3.1/3.1 MB\u001b[0m \u001b[31m4.7 MB/s\u001b[0m eta \u001b[36m0:00:00\u001b[0m00:01\u001b[0m00:01\u001b[0m\n",
            "\u001b[?25hRequirement already satisfied: nbformat in /Users/giorgiafaedda/anaconda3/envs/redi/lib/python3.10/site-packages (from nbdime) (5.9.2)\n",
            "Requirement already satisfied: pygments in /Users/giorgiafaedda/anaconda3/envs/redi/lib/python3.10/site-packages (from nbdime) (2.15.1)\n",
            "Requirement already satisfied: requests in /Users/giorgiafaedda/anaconda3/envs/redi/lib/python3.10/site-packages (from nbdime) (2.31.0)\n",
            "Requirement already satisfied: tornado in /Users/giorgiafaedda/anaconda3/envs/redi/lib/python3.10/site-packages (from nbdime) (6.3.3)\n",
            "Collecting gitdb<5,>=4.0.1 (from gitpython!=2.1.4,!=2.1.5,!=2.1.6->nbdime)\n",
            "  Obtaining dependency information for gitdb<5,>=4.0.1 from https://files.pythonhosted.org/packages/fd/5b/8f0c4a5bb9fd491c277c21eff7ccae71b47d43c4446c9d0c6cff2fe8c2c4/gitdb-4.0.11-py3-none-any.whl.metadata\n",
            "  Downloading gitdb-4.0.11-py3-none-any.whl.metadata (1.2 kB)\n",
            "Requirement already satisfied: MarkupSafe>=2.0 in /Users/giorgiafaedda/anaconda3/envs/redi/lib/python3.10/site-packages (from jinja2>=2.9->nbdime) (2.1.1)\n",
            "Requirement already satisfied: anyio<4,>=3.1.0 in /Users/giorgiafaedda/anaconda3/envs/redi/lib/python3.10/site-packages (from jupyter-server->nbdime) (3.5.0)\n",
            "Requirement already satisfied: argon2-cffi in /Users/giorgiafaedda/anaconda3/envs/redi/lib/python3.10/site-packages (from jupyter-server->nbdime) (21.3.0)\n",
            "Requirement already satisfied: jupyter-client>=6.1.12 in /Users/giorgiafaedda/anaconda3/envs/redi/lib/python3.10/site-packages (from jupyter-server->nbdime) (7.4.9)\n",
            "Requirement already satisfied: jupyter-core>=4.7.0 in /Users/giorgiafaedda/anaconda3/envs/redi/lib/python3.10/site-packages (from jupyter-server->nbdime) (5.3.0)\n",
            "Requirement already satisfied: nbconvert>=6.4.4 in /Users/giorgiafaedda/anaconda3/envs/redi/lib/python3.10/site-packages (from jupyter-server->nbdime) (6.5.4)\n",
            "Requirement already satisfied: packaging in /Users/giorgiafaedda/anaconda3/envs/redi/lib/python3.10/site-packages (from jupyter-server->nbdime) (23.1)\n",
            "Requirement already satisfied: prometheus-client in /Users/giorgiafaedda/anaconda3/envs/redi/lib/python3.10/site-packages (from jupyter-server->nbdime) (0.14.1)\n",
            "Requirement already satisfied: pyzmq>=17 in /Users/giorgiafaedda/anaconda3/envs/redi/lib/python3.10/site-packages (from jupyter-server->nbdime) (23.2.0)\n",
            "Requirement already satisfied: Send2Trash in /Users/giorgiafaedda/anaconda3/envs/redi/lib/python3.10/site-packages (from jupyter-server->nbdime) (1.8.0)\n",
            "Requirement already satisfied: terminado>=0.8.3 in /Users/giorgiafaedda/anaconda3/envs/redi/lib/python3.10/site-packages (from jupyter-server->nbdime) (0.17.1)\n",
            "Requirement already satisfied: traitlets>=5.1 in /Users/giorgiafaedda/anaconda3/envs/redi/lib/python3.10/site-packages (from jupyter-server->nbdime) (5.7.1)\n",
            "Requirement already satisfied: websocket-client in /Users/giorgiafaedda/anaconda3/envs/redi/lib/python3.10/site-packages (from jupyter-server->nbdime) (0.58.0)\n",
            "Requirement already satisfied: fastjsonschema in /Users/giorgiafaedda/anaconda3/envs/redi/lib/python3.10/site-packages (from nbformat->nbdime) (2.16.2)\n",
            "Requirement already satisfied: jsonschema>=2.6 in /Users/giorgiafaedda/anaconda3/envs/redi/lib/python3.10/site-packages (from nbformat->nbdime) (4.17.3)\n",
            "Requirement already satisfied: charset-normalizer<4,>=2 in /Users/giorgiafaedda/anaconda3/envs/redi/lib/python3.10/site-packages (from requests->nbdime) (2.0.4)\n",
            "Requirement already satisfied: idna<4,>=2.5 in /Users/giorgiafaedda/anaconda3/envs/redi/lib/python3.10/site-packages (from requests->nbdime) (3.4)\n",
            "Requirement already satisfied: urllib3<3,>=1.21.1 in /Users/giorgiafaedda/anaconda3/envs/redi/lib/python3.10/site-packages (from requests->nbdime) (1.26.18)\n",
            "Requirement already satisfied: certifi>=2017.4.17 in /Users/giorgiafaedda/anaconda3/envs/redi/lib/python3.10/site-packages (from requests->nbdime) (2023.7.22)\n",
            "Requirement already satisfied: sniffio>=1.1 in /Users/giorgiafaedda/anaconda3/envs/redi/lib/python3.10/site-packages (from anyio<4,>=3.1.0->jupyter-server->nbdime) (1.2.0)\n",
            "Collecting smmap<6,>=3.0.1 (from gitdb<5,>=4.0.1->gitpython!=2.1.4,!=2.1.5,!=2.1.6->nbdime)\n",
            "  Obtaining dependency information for smmap<6,>=3.0.1 from https://files.pythonhosted.org/packages/a7/a5/10f97f73544edcdef54409f1d839f6049a0d79df68adbc1ceb24d1aaca42/smmap-5.0.1-py3-none-any.whl.metadata\n",
            "  Downloading smmap-5.0.1-py3-none-any.whl.metadata (4.3 kB)\n",
            "Requirement already satisfied: attrs>=17.4.0 in /Users/giorgiafaedda/anaconda3/envs/redi/lib/python3.10/site-packages (from jsonschema>=2.6->nbformat->nbdime) (23.1.0)\n",
            "Requirement already satisfied: pyrsistent!=0.17.0,!=0.17.1,!=0.17.2,>=0.14.0 in /Users/giorgiafaedda/anaconda3/envs/redi/lib/python3.10/site-packages (from jsonschema>=2.6->nbformat->nbdime) (0.18.0)\n",
            "Requirement already satisfied: entrypoints in /Users/giorgiafaedda/anaconda3/envs/redi/lib/python3.10/site-packages (from jupyter-client>=6.1.12->jupyter-server->nbdime) (0.4)\n",
            "Requirement already satisfied: nest-asyncio>=1.5.4 in /Users/giorgiafaedda/anaconda3/envs/redi/lib/python3.10/site-packages (from jupyter-client>=6.1.12->jupyter-server->nbdime) (1.5.6)\n",
            "Requirement already satisfied: python-dateutil>=2.8.2 in /Users/giorgiafaedda/anaconda3/envs/redi/lib/python3.10/site-packages (from jupyter-client>=6.1.12->jupyter-server->nbdime) (2.8.2)\n",
            "Requirement already satisfied: platformdirs>=2.5 in /Users/giorgiafaedda/anaconda3/envs/redi/lib/python3.10/site-packages (from jupyter-core>=4.7.0->jupyter-server->nbdime) (3.10.0)\n",
            "Requirement already satisfied: lxml in /Users/giorgiafaedda/anaconda3/envs/redi/lib/python3.10/site-packages (from nbconvert>=6.4.4->jupyter-server->nbdime) (4.9.3)\n",
            "Requirement already satisfied: beautifulsoup4 in /Users/giorgiafaedda/anaconda3/envs/redi/lib/python3.10/site-packages (from nbconvert>=6.4.4->jupyter-server->nbdime) (4.12.2)\n",
            "Requirement already satisfied: bleach in /Users/giorgiafaedda/anaconda3/envs/redi/lib/python3.10/site-packages (from nbconvert>=6.4.4->jupyter-server->nbdime) (4.1.0)\n",
            "Requirement already satisfied: defusedxml in /Users/giorgiafaedda/anaconda3/envs/redi/lib/python3.10/site-packages (from nbconvert>=6.4.4->jupyter-server->nbdime) (0.7.1)\n",
            "Requirement already satisfied: jupyterlab-pygments in /Users/giorgiafaedda/anaconda3/envs/redi/lib/python3.10/site-packages (from nbconvert>=6.4.4->jupyter-server->nbdime) (0.1.2)\n",
            "Requirement already satisfied: mistune<2,>=0.8.1 in /Users/giorgiafaedda/anaconda3/envs/redi/lib/python3.10/site-packages (from nbconvert>=6.4.4->jupyter-server->nbdime) (0.8.4)\n",
            "Requirement already satisfied: nbclient>=0.5.0 in /Users/giorgiafaedda/anaconda3/envs/redi/lib/python3.10/site-packages (from nbconvert>=6.4.4->jupyter-server->nbdime) (0.5.13)\n",
            "Requirement already satisfied: pandocfilters>=1.4.1 in /Users/giorgiafaedda/anaconda3/envs/redi/lib/python3.10/site-packages (from nbconvert>=6.4.4->jupyter-server->nbdime) (1.5.0)\n",
            "Requirement already satisfied: tinycss2 in /Users/giorgiafaedda/anaconda3/envs/redi/lib/python3.10/site-packages (from nbconvert>=6.4.4->jupyter-server->nbdime) (1.2.1)\n",
            "Requirement already satisfied: ptyprocess in /Users/giorgiafaedda/anaconda3/envs/redi/lib/python3.10/site-packages (from terminado>=0.8.3->jupyter-server->nbdime) (0.7.0)\n",
            "Requirement already satisfied: argon2-cffi-bindings in /Users/giorgiafaedda/anaconda3/envs/redi/lib/python3.10/site-packages (from argon2-cffi->jupyter-server->nbdime) (21.2.0)\n",
            "Requirement already satisfied: six in /Users/giorgiafaedda/anaconda3/envs/redi/lib/python3.10/site-packages (from websocket-client->jupyter-server->nbdime) (1.16.0)\n",
            "Requirement already satisfied: cffi>=1.0.1 in /Users/giorgiafaedda/anaconda3/envs/redi/lib/python3.10/site-packages (from argon2-cffi-bindings->argon2-cffi->jupyter-server->nbdime) (1.15.1)\n",
            "Requirement already satisfied: soupsieve>1.2 in /Users/giorgiafaedda/anaconda3/envs/redi/lib/python3.10/site-packages (from beautifulsoup4->nbconvert>=6.4.4->jupyter-server->nbdime) (2.5)\n",
            "Requirement already satisfied: webencodings in /Users/giorgiafaedda/anaconda3/envs/redi/lib/python3.10/site-packages (from bleach->nbconvert>=6.4.4->jupyter-server->nbdime) (0.5.1)\n",
            "Requirement already satisfied: pycparser in /Users/giorgiafaedda/anaconda3/envs/redi/lib/python3.10/site-packages (from cffi>=1.0.1->argon2-cffi-bindings->argon2-cffi->jupyter-server->nbdime) (2.21)\n",
            "Downloading nbdime-4.0.1-py3-none-any.whl (5.9 MB)\n",
            "\u001b[2K   \u001b[90m━━━━━━━━━━━━━━━━━━━━━━━━━━━━━━━━━━━━━━━━\u001b[0m \u001b[32m5.9/5.9 MB\u001b[0m \u001b[31m4.9 MB/s\u001b[0m eta \u001b[36m0:00:00\u001b[0m00:01\u001b[0m00:01\u001b[0mm\n",
            "\u001b[?25hDownloading GitPython-3.1.40-py3-none-any.whl (190 kB)\n",
            "\u001b[2K   \u001b[90m━━━━━━━━━━━━━━━━━━━━━━━━━━━━━━━━━━━━━━━━\u001b[0m \u001b[32m190.6/190.6 kB\u001b[0m \u001b[31m2.5 MB/s\u001b[0m eta \u001b[36m0:00:00\u001b[0mta \u001b[36m0:00:01\u001b[0m\n",
            "\u001b[?25hDownloading gitdb-4.0.11-py3-none-any.whl (62 kB)\n",
            "\u001b[2K   \u001b[90m━━━━━━━━━━━━━━━━━━━━━━━━━━━━━━━━━━━━━━━━\u001b[0m \u001b[32m62.7/62.7 kB\u001b[0m \u001b[31m1.1 MB/s\u001b[0m eta \u001b[36m0:00:00\u001b[0m:00:01\u001b[0m\n",
            "\u001b[?25hDownloading smmap-5.0.1-py3-none-any.whl (24 kB)\n",
            "Installing collected packages: smmap, colorama, gitdb, gitpython, jupyter-server-mathjax, nbdime\n",
            "Successfully installed colorama-0.4.6 gitdb-4.0.11 gitpython-3.1.40 jupyter-server-mathjax-0.2.6 nbdime-4.0.1 smmap-5.0.1\n"
          ]
        }
      ],
      "source": [
        "!pip install nbdime\n",
        "!nbdime config-git --enable --global"
      ]
    },
    {
      "cell_type": "code",
      "execution_count": 19,
      "id": "5b3340e9",
      "metadata": {
        "id": "5b3340e9"
      },
      "outputs": [],
      "source": [
        "import subprocess\n",
        "import shlex\n",
        "def run_command(command: str, no_print=False, throw_on_error=False):\n",
        "    print('Exec:', command)\n",
        "    result = subprocess.run(\n",
        "        shlex.split(command),\n",
        "        capture_output = True,\n",
        "        text=True\n",
        "    )\n",
        "    if not no_print:\n",
        "      if len(result.stderr) > 0:\n",
        "        print('\\033[1;31m', result.stderr, '\\033[0;0m', sep='')\n",
        "        if throw_on_error:\n",
        "          raise Exception(result.stderr)\n",
        "      if len(result.stdout) > 0:\n",
        "        print(result.stdout)\n",
        "\n",
        "    return result.stdout.strip()\n",
        "\n",
        "import re\n",
        "def get_clean_text(text: str):\n",
        "    return re.sub('[^0-9a-zA-Z]+', '_', text)\n",
        "\n",
        "import os\n",
        "def get_username():\n",
        "    if 'USER' in os.environ:\n",
        "        return os.environ['USER']\n",
        "    elif 'USERNAME' in os.environ:\n",
        "        return os.environ['USERNAME']\n",
        "    else:\n",
        "        return run_command('whoami', no_print=True)\n",
        "\n",
        "import random\n",
        "import string\n",
        "def get_random_string(length=8):\n",
        "    return ''.join(random.choice(string.ascii_lowercase) for _ in range(length))"
      ]
    },
    {
      "cell_type": "code",
      "execution_count": 8,
      "metadata": {},
      "outputs": [
        {
          "name": "stdout",
          "output_type": "stream",
          "text": [
            "File ./giorgiafaedda.ipynb already exists, skipping...\n",
            "Please open /Users/giorgiafaedda/Documents/GitHub/final-project/giorgiafaedda.ipynb and start working on your assignment\n"
          ]
        }
      ],
      "source": [
        "# Generate own file\n",
        "import shutil\n",
        "user_name = get_clean_text(get_username())\n",
        "template_file = './templates/default.ipynb'\n",
        "user_file = f'./{user_name}.ipynb'\n",
        "if os.path.isfile(user_file):\n",
        "    print(f'File {user_file} already exists, skipping...')\n",
        "else:\n",
        "    shutil.copy(template_file, user_file)\n",
        "    print(f'Created {user_file}')\n",
        "print(f'Please open {os.path.abspath(user_file)} and start working on your assignment')"
      ]
    },
    {
      "cell_type": "code",
      "execution_count": 21,
      "metadata": {},
      "outputs": [
        {
          "name": "stdout",
          "output_type": "stream",
          "text": [
            "Exec: git branch --show-current\n",
            "main\n",
            "\n",
            "You are in branch main.\n",
            "Rebasing on main...\n",
            "Exec: git stash\n",
            "Saved working directory and index state WIP on main: ad5d77d Updates\n",
            "\n",
            "Exec: git commit -m \"Committing changes before rebasing\"\n",
            "On branch main\n",
            "Your branch is behind 'origin/main' by 1 commit, and can be fast-forwarded.\n",
            "  (use \"git pull\" to update your local branch)\n",
            "\n",
            "Untracked files:\n",
            "  (use \"git add <file>...\" to include in what will be committed)\n",
            "\tcleaning.ipynb\n",
            "\n",
            "nothing added to commit but untracked files present (use \"git add\" to track)\n",
            "\n",
            "Exec: git checkout main\n",
            "\u001b[1;31mAlready on 'main'\n",
            "\u001b[0;0m\n",
            "Your branch is behind 'origin/main' by 1 commit, and can be fast-forwarded.\n",
            "  (use \"git pull\" to update your local branch)\n",
            "\n",
            "Exec: git pull\n",
            "Updating ad5d77d..8205c2f\n",
            "Fast-forward\n",
            " hodan.ipynb | 704 +++++++++++++++++++++++++++++++++++++++++++++++++++++++++++-\n",
            " 1 file changed, 699 insertions(+), 5 deletions(-)\n",
            "\n",
            "Exec: git checkout main\n",
            "\u001b[1;31mAlready on 'main'\n",
            "\u001b[0;0m\n",
            "Your branch is up to date with 'origin/main'.\n",
            "\n",
            "Exec: git rebase main\n",
            "Current branch main is up to date.\n",
            "\n",
            "Exec: git stash pop\n",
            "On branch main\n",
            "Your branch is up to date with 'origin/main'.\n",
            "\n",
            "Changes not staged for commit:\n",
            "  (use \"git add <file>...\" to update what will be committed)\n",
            "  (use \"git restore <file>...\" to discard changes in working directory)\n",
            "\tmodified:   giorgiafaedda.ipynb\n",
            "\n",
            "Untracked files:\n",
            "  (use \"git add <file>...\" to include in what will be committed)\n",
            "\tcleaning.ipynb\n",
            "\n",
            "no changes added to commit (use \"git add\" and/or \"git commit -a\")\n",
            "Dropped refs/stash@{0} (f04d43439f5a0567ba13c031fd3ba3f5e2378887)\n",
            "\n",
            "Rebase done.\n"
          ]
        }
      ],
      "source": [
        "# Run this to get the latest project updates\n",
        "def get_latest_changes():\n",
        "    # Check the status is fine\n",
        "    feature_branch = run_command('git branch --show-current', False)\n",
        "    # Rebase on main before creating a new branch\n",
        "    if feature_branch != 'main':\n",
        "        print(f'You are in branch {feature_branch}.')\n",
        "        print('Rebasing on main...')\n",
        "        run_command(f'git stash')\n",
        "        run_command('git commit -m \"Committing changes before rebasing\"')\n",
        "        run_command('git checkout main')\n",
        "        run_command('git pull')\n",
        "        run_command(f'git checkout {feature_branch}')\n",
        "        run_command('git rebase main')\n",
        "        run_command('git stash pop')\n",
        "        print ('Rebase done.')\n",
        "get_latest_changes()"
      ]
    },
    {
      "cell_type": "code",
      "execution_count": 10,
      "id": "syP4dwR9p8VI",
      "metadata": {
        "colab": {
          "base_uri": "https://localhost:8080/"
        },
        "id": "syP4dwR9p8VI",
        "outputId": "d47ea9cf-de5a-4b27-c104-354be4c9f8cd"
      },
      "outputs": [
        {
          "name": "stdout",
          "output_type": "stream",
          "text": [
            "giorgiafaedda/fyjyncbv\n",
            "\n"
          ]
        }
      ],
      "source": [
        "feature_branch = ''\n",
        "\n",
        "def create_branch():\n",
        "  global feature_branch\n",
        "  global user_name\n",
        "  get_latest_changes()\n",
        "  \n",
        "  # Create a new branch\n",
        "  feature_name = get_random_string()\n",
        "  feature_branch = f'{user_name}/{feature_name}'\n",
        "  print('Creating new branch:', feature_branch)\n",
        "  run_command(f'git checkout -b {feature_branch}')\n",
        "  print('Now you are in your new branch:', feature_branch)\n",
        "\n",
        "feature_branch = run_command('git branch --show-current', False)\n",
        "# Do not create a new branch if we are out of main\n",
        "if feature_branch == 'main':\n",
        "  create_branch()"
      ]
    },
    {
      "cell_type": "code",
      "execution_count": 17,
      "id": "4884bc46",
      "metadata": {
        "colab": {
          "base_uri": "https://localhost:8080/"
        },
        "id": "4884bc46",
        "outputId": "b3c6bc62-b6ba-4e67-f1df-68b71f0242f4"
      },
      "outputs": [
        {
          "name": "stdout",
          "output_type": "stream",
          "text": [
            "Exec: git add giorgiafaedda*\n",
            "Exec: git commit -m \"Updated giorgiafaedda files\"\n",
            "On branch giorgiafaedda/fyjyncbv\n",
            "Changes not staged for commit:\n",
            "  (use \"git add <file>...\" to update what will be committed)\n",
            "  (use \"git restore <file>...\" to discard changes in working directory)\n",
            "\tmodified:   github.ipynb\n",
            "\n",
            "no changes added to commit (use \"git add\" and/or \"git commit -a\")\n",
            "\n",
            "Changes saved on your device! Updated giorgiafaedda files\n"
          ]
        }
      ],
      "source": [
        "# Add files to the list of changees\n",
        "edited_file_path=user_file\n",
        "def add_file_to_changes():\n",
        "  global user_name\n",
        "  # Add file to git staging area\n",
        "  run_command(f'git add {user_name}*')\n",
        "\n",
        "add_file_to_changes()\n",
        "\n",
        "# Commit changes\n",
        "commit_message =  f'Updated {user_name} files'\n",
        "run_command(f'git commit -m \"{commit_message}\"')\n",
        "print('Changes saved on your device!', commit_message)"
      ]
    },
    {
      "cell_type": "code",
      "execution_count": 18,
      "id": "4a2c2522",
      "metadata": {
        "colab": {
          "base_uri": "https://localhost:8080/"
        },
        "id": "4a2c2522",
        "outputId": "3144ca0d-ce34-42b4-c117-7fa57d2a8f01"
      },
      "outputs": [
        {
          "name": "stdout",
          "output_type": "stream",
          "text": [
            "Open GitHub desktop to push your changes to the server\n"
          ]
        }
      ],
      "source": [
        "print('Open GitHub desktop to push your changes to the server')"
      ]
    },
    {
      "cell_type": "markdown",
      "metadata": {},
      "source": [
        "When you are ready to share your work, run this file again, then\n",
        "open *GitHub Desktop* and click on **📤 Publish Branch**\n",
        "\n",
        "![Image Description](./img/publish_branch_gh.png)\n",
        "\n",
        "Now open [https://github.com/ReDI-Data-Analytics-2023/final-project](https://github.com/ReDI-Data-Analytics-2023/final-project) and press on **Compare and pull request**.\n",
        "\n",
        "![Image Description](./img/compare_pull_request.png)\n",
        "\n",
        "Finally, you can give a name and description if you feel you want to explain something,\n",
        "then press **Create pull request**.\n",
        "\n",
        "![Image Description](./img/pull_request_page.png)\n"
      ]
    }
  ],
  "metadata": {
    "colab": {
      "provenance": []
    },
    "kernelspec": {
      "display_name": "Python 3 (ipykernel)",
      "language": "python",
      "name": "python3"
    },
    "language_info": {
      "codemirror_mode": {
        "name": "ipython",
        "version": 3
      },
      "file_extension": ".py",
      "mimetype": "text/x-python",
      "name": "python",
      "nbconvert_exporter": "python",
      "pygments_lexer": "ipython3",
      "version": "3.10.0"
    }
  },
  "nbformat": 4,
  "nbformat_minor": 5
}
