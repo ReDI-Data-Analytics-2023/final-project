{
  "cells": [
    {
      "cell_type": "code",
      "execution_count": 2,
      "id": "5b3340e9",
      "metadata": {
        "id": "5b3340e9"
      },
      "outputs": [],
      "source": [
        "import subprocess\n",
        "import shlex\n",
        "def run_command(command: str, no_print=False, throw_on_error=False):\n",
        "    result = subprocess.run(\n",
        "        shlex.split(command),\n",
        "        capture_output = True,\n",
        "        text=True\n",
        "    )\n",
        "    if not no_print:\n",
        "      if len(result.stderr) > 0:\n",
        "        print('\\033[1;31m', result.stderr, '\\033[0;0m', sep='')\n",
        "        if throw_on_error:\n",
        "          raise Exception(result.stderr)\n",
        "      if len(result.stdout) > 0:\n",
        "        print(result.stdout)\n",
        "\n",
        "    return result.stdout.strip()\n",
        "\n",
        "import re\n",
        "def get_clean_text(text: str):\n",
        "    return re.sub('[^0-9a-zA-Z]+', '_', text)\n",
        "\n",
        "import os\n",
        "def get_username():\n",
        "    if 'USER' in os.environ:\n",
        "        return os.environ['USER']\n",
        "    elif 'USERNAME' in os.environ:\n",
        "        return os.environ['USERNAME']\n",
        "    else:\n",
        "        return run_command('whoami', no_print=True)\n",
        "\n",
        "import random\n",
        "import string\n",
        "def get_random_string(length=8):\n",
        "    return ''.join(random.choice(string.ascii_lowercase) for _ in range(length))"
      ]
    },
    {
      "cell_type": "code",
      "execution_count": 5,
      "metadata": {},
      "outputs": [
        {
          "name": "stdout",
          "output_type": "stream",
          "text": [
            "File ./giorgiafaedda.ipynb already exists, skipping...\n",
            "Please open /Users/giorgiafaedda/Documents/GitHub/final-project/giorgiafaedda.ipynb and start working on your assignment\n"
          ]
        }
      ],
      "source": [
        "# Generate own file\n",
        "user_name = get_clean_text(get_username())\n",
        "template_file = './templates/default.ipynb'\n",
        "user_file = f'./{user_name}.ipynb'\n",
        "if os.path.isfile(user_file):\n",
        "    print(f'File {user_file} already exists, skipping...')\n",
        "else:\n",
        "    run_command(f'cp {template_file} {user_file}')\n",
        "    print(f'Created {user_file}')\n",
        "print(f'Please open {os.path.abspath(user_file)} and start working on your assignment')\n"
      ]
    },
    {
      "cell_type": "code",
      "execution_count": 4,
      "id": "syP4dwR9p8VI",
      "metadata": {
        "colab": {
          "base_uri": "https://localhost:8080/"
        },
        "id": "syP4dwR9p8VI",
        "outputId": "d47ea9cf-de5a-4b27-c104-354be4c9f8cd"
      },
      "outputs": [
        {
          "name": "stdout",
          "output_type": "stream",
          "text": [
            "giorgia/perform_initial_analysis\n",
            "\n",
            "\u001b[1;31mSwitched to a new branch 'giorgiafaedda/akxbzfbm'\n",
            "\u001b[0;0m\n",
            "Now you are in your new branch: giorgiafaedda/akxbzfbm\n"
          ]
        }
      ],
      "source": [
        "feature_branch = ''\n",
        "\n",
        "def create_branch():\n",
        "  global feature_branch\n",
        "  global user_name\n",
        "  # Check the status is fine\n",
        "  feature_branch = run_command('git branch --show-current', False)\n",
        "  feature_name = get_random_string()\n",
        "  feature_branch = f'{user_name}/{feature_name}'\n",
        "  run_command(f'git checkout -b {feature_branch}')\n",
        "  print('Now you are in your new branch:', feature_branch)\n",
        "\n",
        "create_branch()"
      ]
    },
    {
      "cell_type": "code",
      "execution_count": 4,
      "id": "WXN2ZBV6uTXM",
      "metadata": {
        "colab": {
          "base_uri": "https://localhost:8080/",
          "height": 178
        },
        "id": "WXN2ZBV6uTXM",
        "outputId": "7ca026db-22f3-4541-cc5f-3e3952ba856a"
      },
      "outputs": [
        {
          "name": "stdout",
          "output_type": "stream",
          "text": [
            "On branch giorgia/perform_initial_analysis\n",
            "Your branch is up to date with 'origin/giorgia/perform_initial_analysis'.\n",
            "\n",
            "Changes not staged for commit:\n",
            "  (use \"git add <file>...\" to update what will be committed)\n",
            "  (use \"git restore <file>...\" to discard changes in working directory)\n",
            "\tmodified:   github.ipynb\n",
            "\n",
            "Untracked files:\n",
            "  (use \"git add <file>...\" to include in what will be committed)\n",
            "\ttest.txt\n",
            "\n",
            "no changes added to commit (use \"git add\" and/or \"git commit -a\")\n",
            "\n"
          ]
        },
        {
          "data": {
            "text/plain": [
              "'On branch giorgia/perform_initial_analysis\\nYour branch is up to date with \\'origin/giorgia/perform_initial_analysis\\'.\\n\\nChanges not staged for commit:\\n  (use \"git add <file>...\" to update what will be committed)\\n  (use \"git restore <file>...\" to discard changes in working directory)\\n\\tmodified:   github.ipynb\\n\\nUntracked files:\\n  (use \"git add <file>...\" to include in what will be committed)\\n\\ttest.txt\\n\\nno changes added to commit (use \"git add\" and/or \"git commit -a\")'"
            ]
          },
          "execution_count": 4,
          "metadata": {},
          "output_type": "execute_result"
        }
      ],
      "source": [
        "# Check changes status\n",
        "run_command('git status')"
      ]
    },
    {
      "cell_type": "code",
      "execution_count": 5,
      "id": "4884bc46",
      "metadata": {
        "colab": {
          "base_uri": "https://localhost:8080/"
        },
        "id": "4884bc46",
        "outputId": "b3c6bc62-b6ba-4e67-f1df-68b71f0242f4"
      },
      "outputs": [
        {
          "name": "stdout",
          "output_type": "stream",
          "text": [
            "You can see above the paths of the edited files.\n",
            "No file selected.\n"
          ]
        }
      ],
      "source": [
        "# Add files to the list of changes\n",
        "edited_file_path=user_file\n",
        "def add_file_to_changes():\n",
        "  global edited_file_path\n",
        "  # Add file to git staging area\n",
        "  run_command(f'git add {edited_file_path}')\n",
        "  run_command('git status')\n",
        "  print('Changes ready to be saved:', edited_file_path)\n",
        "\n",
        "add_file_to_changes()"
      ]
    },
    {
      "cell_type": "code",
      "execution_count": 6,
      "id": "bb6a35de",
      "metadata": {
        "colab": {
          "base_uri": "https://localhost:8080/"
        },
        "id": "bb6a35de",
        "outputId": "e2b59795-fec2-4384-9bac-bbdb33b817db"
      },
      "outputs": [
        {
          "name": "stdout",
          "output_type": "stream",
          "text": [
            "On branch giorgia/perform_initial_analysis\n",
            "Your branch is up to date with 'origin/giorgia/perform_initial_analysis'.\n",
            "\n",
            "Changes not staged for commit:\n",
            "  (use \"git add <file>...\" to update what will be committed)\n",
            "  (use \"git restore <file>...\" to discard changes in working directory)\n",
            "\tmodified:   github.ipynb\n",
            "\n",
            "Untracked files:\n",
            "  (use \"git add <file>...\" to include in what will be committed)\n",
            "\ttest.txt\n",
            "\n",
            "no changes added to commit (use \"git add\" and/or \"git commit -a\")\n",
            "\n",
            "Changes saved locally! update\n"
          ]
        }
      ],
      "source": [
        "# What did you change?\n",
        "COMMIT_MESSAGE=input('Write a short description of what you changed: ')\n",
        "\n",
        "commit_message = COMMIT_MESSAGE if COMMIT_MESSAGE != '' else f'Updated {edited_file_path}'\n",
        "run_command(f'git commit -m {commit_message}')\n",
        "print('Changes saved locally!', commit_message)"
      ]
    },
    {
      "cell_type": "code",
      "execution_count": 7,
      "id": "4a2c2522",
      "metadata": {
        "colab": {
          "base_uri": "https://localhost:8080/"
        },
        "id": "4a2c2522",
        "outputId": "3144ca0d-ce34-42b4-c117-7fa57d2a8f01"
      },
      "outputs": [
        {
          "name": "stdout",
          "output_type": "stream",
          "text": [
            "About to push changes on GitHub.com...\n",
            "Sending our changes...\n",
            "\u001b[1;31mfatal: invalid refspec 'giorgia/'\n",
            "\u001b[0;0m\n",
            "Changes saved on GitHub.com!\n"
          ]
        }
      ],
      "source": [
        "print('About to push changes on GitHub.com...')\n",
        "print('Sending our changes...')\n",
        "run_command(f'git push --set-upstream origin {feature_branch}')\n",
        "print('Changes saved on GitHub.com!')"
      ]
    }
  ],
  "metadata": {
    "colab": {
      "provenance": []
    },
    "kernelspec": {
      "display_name": "Python 3 (ipykernel)",
      "language": "python",
      "name": "python3"
    },
    "language_info": {
      "codemirror_mode": {
        "name": "ipython",
        "version": 3
      },
      "file_extension": ".py",
      "mimetype": "text/x-python",
      "name": "python",
      "nbconvert_exporter": "python",
      "pygments_lexer": "ipython3",
      "version": "3.10.0"
    }
  },
  "nbformat": 4,
  "nbformat_minor": 5
}
