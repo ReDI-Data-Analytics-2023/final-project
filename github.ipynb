{
  "cells": [
    {
      "cell_type": "code",
      "execution_count": 15,
      "id": "5b3340e9",
      "metadata": {
        "id": "5b3340e9"
      },
      "outputs": [],
      "source": [
        "import subprocess\n",
        "import shlex\n",
        "def run_command(command: str, no_print=False, throw_on_error=False):\n",
        "    print('Exec:', command)\n",
        "    result = subprocess.run(\n",
        "        shlex.split(command),\n",
        "        capture_output = True,\n",
        "        text=True\n",
        "    )\n",
        "    if not no_print:\n",
        "      if len(result.stderr) > 0:\n",
        "        print('\\033[1;31m', result.stderr, '\\033[0;0m', sep='')\n",
        "        if throw_on_error:\n",
        "          raise Exception(result.stderr)\n",
        "      if len(result.stdout) > 0:\n",
        "        print(result.stdout)\n",
        "\n",
        "    return result.stdout.strip()\n",
        "\n",
        "import re\n",
        "def get_clean_text(text: str):\n",
        "    return re.sub('[^0-9a-zA-Z]+', '_', text)\n",
        "\n",
        "import os\n",
        "def get_username():\n",
        "    if 'USER' in os.environ:\n",
        "        return os.environ['USER']\n",
        "    elif 'USERNAME' in os.environ:\n",
        "        return os.environ['USERNAME']\n",
        "    else:\n",
        "        return run_command('whoami', no_print=True)\n",
        "\n",
        "import random\n",
        "import string\n",
        "def get_random_string(length=8):\n",
        "    return ''.join(random.choice(string.ascii_lowercase) for _ in range(length))"
      ]
    },
    {
      "cell_type": "code",
      "execution_count": 8,
      "metadata": {},
      "outputs": [
        {
          "name": "stdout",
          "output_type": "stream",
          "text": [
            "File ./giorgiafaedda.ipynb already exists, skipping...\n",
            "Please open /Users/giorgiafaedda/Documents/GitHub/final-project/giorgiafaedda.ipynb and start working on your assignment\n"
          ]
        }
      ],
      "source": [
        "# Generate own file\n",
        "user_name = get_clean_text(get_username())\n",
        "template_file = './templates/default.ipynb'\n",
        "user_file = f'./{user_name}.ipynb'\n",
        "if os.path.isfile(user_file):\n",
        "    print(f'File {user_file} already exists, skipping...')\n",
        "else:\n",
        "    run_command(f'cp {template_file} {user_file}')\n",
        "    print(f'Created {user_file}')\n",
        "print(f'Please open {os.path.abspath(user_file)} and start working on your assignment')"
      ]
    },
    {
      "cell_type": "code",
      "execution_count": 9,
      "metadata": {},
      "outputs": [
        {
          "name": "stdout",
          "output_type": "stream",
          "text": [
            "giorgiafaedda/fyjyncbv\n",
            "\n",
            "You are in branch giorgiafaedda/fyjyncbv.\n",
            "Rebasing on main...\n",
            "No local changes to save\n",
            "\n",
            "On branch giorgiafaedda/fyjyncbv\n",
            "nothing to commit, working tree clean\n",
            "\n",
            "\u001b[1;31mSwitched to branch 'main'\n",
            "\u001b[0;0m\n",
            "Your branch is up to date with 'origin/main'.\n",
            "\n",
            "Already up to date.\n",
            "\n",
            "\u001b[1;31mSwitched to branch 'giorgiafaedda/fyjyncbv'\n",
            "\u001b[0;0m\n",
            "Current branch giorgiafaedda/fyjyncbv is up to date.\n",
            "\n",
            "\u001b[1;31mNo stash entries found.\n",
            "\u001b[0;0m\n",
            "Rebase done.\n"
          ]
        }
      ],
      "source": [
        "# Run this to get the latest project updates\n",
        "def get_latest_changes():\n",
        "    # Check the status is fine\n",
        "    feature_branch = run_command('git branch --show-current', False)\n",
        "    # Rebase on main before creating a new branch\n",
        "    if feature_branch != 'main':\n",
        "        print(f'You are in branch {feature_branch}.')\n",
        "        print('Rebasing on main...')\n",
        "        run_command(f'git stash')\n",
        "        run_command('git commit -m \"Committing changes before rebasing\"')\n",
        "        run_command('git checkout main')\n",
        "        run_command('git pull')\n",
        "        run_command(f'git checkout {feature_branch}')\n",
        "        run_command('git rebase main')\n",
        "        run_command('git stash pop')\n",
        "        print ('Rebase done.')\n",
        "get_latest_changes()"
      ]
    },
    {
      "cell_type": "code",
      "execution_count": 10,
      "id": "syP4dwR9p8VI",
      "metadata": {
        "colab": {
          "base_uri": "https://localhost:8080/"
        },
        "id": "syP4dwR9p8VI",
        "outputId": "d47ea9cf-de5a-4b27-c104-354be4c9f8cd"
      },
      "outputs": [
        {
          "name": "stdout",
          "output_type": "stream",
          "text": [
            "giorgiafaedda/fyjyncbv\n",
            "\n"
          ]
        }
      ],
      "source": [
        "feature_branch = ''\n",
        "\n",
        "def create_branch():\n",
        "  global feature_branch\n",
        "  global user_name\n",
        "  get_latest_changes()\n",
        "  \n",
        "  # Create a new branch\n",
        "  feature_name = get_random_string()\n",
        "  feature_branch = f'{user_name}/{feature_name}'\n",
        "  print('Creating new branch:', feature_branch)\n",
        "  run_command(f'git checkout -b {feature_branch}')\n",
        "  print('Now you are in your new branch:', feature_branch)\n",
        "\n",
        "feature_branch = run_command('git branch --show-current', False)\n",
        "# Do not create a new branch if we are out of main\n",
        "if feature_branch == 'main':\n",
        "  create_branch()"
      ]
    },
    {
      "cell_type": "code",
      "execution_count": 17,
      "id": "4884bc46",
      "metadata": {
        "colab": {
          "base_uri": "https://localhost:8080/"
        },
        "id": "4884bc46",
        "outputId": "b3c6bc62-b6ba-4e67-f1df-68b71f0242f4"
      },
      "outputs": [
        {
          "name": "stdout",
          "output_type": "stream",
          "text": [
            "Exec: git add giorgiafaedda*\n",
            "Exec: git commit -m \"Updated giorgiafaedda files\"\n",
            "On branch giorgiafaedda/fyjyncbv\n",
            "Changes not staged for commit:\n",
            "  (use \"git add <file>...\" to update what will be committed)\n",
            "  (use \"git restore <file>...\" to discard changes in working directory)\n",
            "\tmodified:   github.ipynb\n",
            "\n",
            "no changes added to commit (use \"git add\" and/or \"git commit -a\")\n",
            "\n",
            "Changes saved on your device! Updated giorgiafaedda files\n"
          ]
        }
      ],
      "source": [
        "# Add files to the list of changees\n",
        "edited_file_path=user_file\n",
        "def add_file_to_changes():\n",
        "  global user_name\n",
        "  # Add file to git staging area\n",
        "  run_command(f'git add {user_name}*')\n",
        "\n",
        "add_file_to_changes()\n",
        "\n",
        "# Commit changes\n",
        "commit_message =  f'Updated {user_name} files'\n",
        "run_command(f'git commit -m \"{commit_message}\"')\n",
        "print('Changes saved on your device!', commit_message)"
      ]
    },
    {
      "cell_type": "code",
      "execution_count": 18,
      "id": "4a2c2522",
      "metadata": {
        "colab": {
          "base_uri": "https://localhost:8080/"
        },
        "id": "4a2c2522",
        "outputId": "3144ca0d-ce34-42b4-c117-7fa57d2a8f01"
      },
      "outputs": [
        {
          "name": "stdout",
          "output_type": "stream",
          "text": [
            "Open GitHub desktop to push your changes to the server\n"
          ]
        }
      ],
      "source": [
        "print('Open GitHub desktop to push your changes to the server')"
      ]
    },
    {
      "cell_type": "markdown",
      "metadata": {},
      "source": [
        "When you are ready to share your work, run this file again, then\n",
        "open *GitHub Desktop* and click on **📤 Publish Branch**\n",
        "\n",
        "![Image Description](./img/publish_branch_gh.png)\n",
        "\n",
        "Now open [https://github.com/ReDI-Data-Analytics-2023/final-project](https://github.com/ReDI-Data-Analytics-2023/final-project) and press on **Compare and pull request**.\n",
        "\n",
        "![Image Description](./img/compare_pull_request.png)\n",
        "\n",
        "Finally, you can give a name and description if you feel you want to explain something,\n",
        "then press **Create pull request**.\n",
        "\n",
        "![Image Description](./img/pull_request_page.png)\n"
      ]
    }
  ],
  "metadata": {
    "colab": {
      "provenance": []
    },
    "kernelspec": {
      "display_name": "Python 3 (ipykernel)",
      "language": "python",
      "name": "python3"
    },
    "language_info": {
      "codemirror_mode": {
        "name": "ipython",
        "version": 3
      },
      "file_extension": ".py",
      "mimetype": "text/x-python",
      "name": "python",
      "nbconvert_exporter": "python",
      "pygments_lexer": "ipython3",
      "version": "3.10.0"
    }
  },
  "nbformat": 4,
  "nbformat_minor": 5
}
