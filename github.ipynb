{
  "cells": [
    {
      "cell_type": "code",
      "execution_count": 10,
      "id": "5b3340e9",
      "metadata": {
        "id": "5b3340e9"
      },
      "outputs": [],
      "source": [
        "import subprocess\n",
        "import shlex\n",
        "def run_command(command: str, no_print=False, throw_on_error=False):\n",
        "    result = subprocess.run(\n",
        "        shlex.split(command),\n",
        "        capture_output = True,\n",
        "        text=True\n",
        "    )\n",
        "    if not no_print:\n",
        "      if len(result.stderr) > 0:\n",
        "        print('\\033[1;31m', result.stderr, '\\033[0;0m', sep='')\n",
        "        if throw_on_error:\n",
        "          raise Exception(result.stderr)\n",
        "      if len(result.stdout) > 0:\n",
        "        print(result.stdout)\n",
        "\n",
        "    return result.stdout.strip()\n",
        "\n",
        "import re\n",
        "def get_clean_text(text: str):\n",
        "    return re.sub('[^0-9a-zA-Z]+', '_', text)\n",
        "\n",
        "import os\n",
        "def get_username():\n",
        "    if 'USER' in os.environ:\n",
        "        return os.environ['USER']\n",
        "    elif 'USERNAME' in os.environ:\n",
        "        return os.environ['USERNAME']\n",
        "    else:\n",
        "        return run_command('whoami', no_print=True)\n",
        "\n",
        "import random\n",
        "import string\n",
        "def get_random_string(length=8):\n",
        "    return ''.join(random.choice(string.ascii_lowercase) for _ in range(length))"
      ]
    },
    {
      "cell_type": "code",
      "execution_count": 11,
      "metadata": {},
      "outputs": [
        {
          "name": "stdout",
          "output_type": "stream",
          "text": [
            "Welcome to ReDI 2023 Final Project!\n",
            "GitHub Update Script\n"
          ]
        }
      ],
      "source": [
        "print('Welcome to ReDI 2023 Final Project!')\n",
        "print('GitHub Update Script')"
      ]
    },
    {
      "cell_type": "code",
      "execution_count": 19,
      "metadata": {},
      "outputs": [
        {
          "name": "stdout",
          "output_type": "stream",
          "text": [
            "giorgiafaedda/svklgcud\n",
            "\n",
            "You are in branch giorgiafaedda/svklgcud.\n",
            "Rebasing on main...\n",
            "[giorgiafaedda/svklgcud e773f24] Committing changes before rebasing\n",
            " 1 file changed, 123 insertions(+), 43 deletions(-)\n",
            "\n",
            "\u001b[1;31mSwitched to branch 'main'\n",
            "\u001b[0;0m\n",
            "Your branch is up to date with 'origin/main'.\n",
            "\n",
            "Already up to date.\n",
            "\n",
            "\u001b[1;31mSwitched to branch 'giorgiafaedda/svklgcud'\n",
            "\u001b[0;0m\n",
            "Your branch is ahead of 'origin/giorgiafaedda/svklgcud' by 1 commit.\n",
            "  (use \"git push\" to publish your local commits)\n",
            "\n",
            "Current branch giorgiafaedda/svklgcud is up to date.\n",
            "\n",
            "Rebase done.\n"
          ]
        }
      ],
      "source": [
        "# Run this to get the latest project updates\n",
        "def get_latest_changes():\n",
        "    # Check the status is fine\n",
        "    feature_branch = run_command('git branch --show-current', False)\n",
        "    # Rebase on main before creating a new branch\n",
        "    if feature_branch != 'main':\n",
        "        print(f'You are in branch {feature_branch}.')\n",
        "        print('Rebasing on main...')\n",
        "        run_command('git commit -am \"Committing changes before rebasing\"')\n",
        "        run_command('git checkout main')\n",
        "        run_command('git pull')\n",
        "        run_command(f'git checkout {feature_branch}')\n",
        "        run_command('git rebase main')\n",
        "        print ('Rebase done.')\n",
        "get_latest_changes()"
      ]
    },
    {
      "cell_type": "code",
      "execution_count": 20,
      "id": "syP4dwR9p8VI",
      "metadata": {
        "colab": {
          "base_uri": "https://localhost:8080/"
        },
        "id": "syP4dwR9p8VI",
        "outputId": "d47ea9cf-de5a-4b27-c104-354be4c9f8cd"
      },
      "outputs": [
        {
          "name": "stdout",
          "output_type": "stream",
          "text": [
            "giorgiafaedda/svklgcud\n",
            "\n",
            "You are in branch giorgiafaedda/svklgcud.\n",
            "Rebasing on main...\n",
            "On branch giorgiafaedda/svklgcud\n",
            "Your branch is ahead of 'origin/giorgiafaedda/svklgcud' by 1 commit.\n",
            "  (use \"git push\" to publish your local commits)\n",
            "\n",
            "nothing to commit, working tree clean\n",
            "\n",
            "\u001b[1;31mSwitched to branch 'main'\n",
            "\u001b[0;0m\n",
            "Your branch is up to date with 'origin/main'.\n",
            "\n",
            "Already up to date.\n",
            "\n",
            "\u001b[1;31mSwitched to branch 'giorgiafaedda/svklgcud'\n",
            "\u001b[0;0m\n",
            "Your branch is ahead of 'origin/giorgiafaedda/svklgcud' by 1 commit.\n",
            "  (use \"git push\" to publish your local commits)\n",
            "\n",
            "Current branch giorgiafaedda/svklgcud is up to date.\n",
            "\n",
            "Rebase done.\n",
            "Creating new branch: giorgiafaedda/duoprtoz\n",
            "\u001b[1;31mSwitched to a new branch 'giorgiafaedda/duoprtoz'\n",
            "\u001b[0;0m\n",
            "Now you are in your new branch: giorgiafaedda/duoprtoz\n"
          ]
        }
      ],
      "source": [
        "feature_branch = ''\n",
        "\n",
        "def create_branch():\n",
        "  global feature_branch\n",
        "  global user_name\n",
        "  get_latest_changes()\n",
        "  \n",
        "  # Create a new branch\n",
        "  feature_name = get_random_string()\n",
        "  feature_branch = f'{user_name}/{feature_name}'\n",
        "  print('Creating new branch:', feature_branch)\n",
        "  run_command(f'git checkout -b {feature_branch}')\n",
        "  print('Now you are in your new branch:', feature_branch)\n",
        "\n",
        "create_branch()"
      ]
    },
    {
      "cell_type": "code",
      "execution_count": 21,
      "metadata": {},
      "outputs": [
        {
          "name": "stdout",
          "output_type": "stream",
          "text": [
            "File ./giorgiafaedda.ipynb already exists, skipping...\n",
            "Please open /Users/giorgiafaedda/Documents/GitHub/final-project/giorgiafaedda.ipynb and start working on your assignment\n"
          ]
        }
      ],
      "source": [
        "# Generate own file\n",
        "user_name = get_clean_text(get_username())\n",
        "template_file = './templates/default.ipynb'\n",
        "user_file = f'./{user_name}.ipynb'\n",
        "if os.path.isfile(user_file):\n",
        "    print(f'File {user_file} already exists, skipping...')\n",
        "else:\n",
        "    run_command(f'cp {template_file} {user_file}')\n",
        "    print(f'Created {user_file}')\n",
        "print(f'Please open {os.path.abspath(user_file)} and start working on your assignment')"
      ]
    },
    {
      "cell_type": "code",
      "execution_count": 24,
      "id": "4884bc46",
      "metadata": {
        "colab": {
          "base_uri": "https://localhost:8080/"
        },
        "id": "4884bc46",
        "outputId": "b3c6bc62-b6ba-4e67-f1df-68b71f0242f4"
      },
      "outputs": [
        {
          "name": "stdout",
          "output_type": "stream",
          "text": [
            "On branch giorgiafaedda/duoprtoz\n",
            "nothing to commit, working tree clean\n",
            "\n",
            "On branch giorgiafaedda/duoprtoz\n",
            "nothing to commit, working tree clean\n",
            "\n",
            "Changes ready to be saved: ./giorgiafaedda.ipynb\n",
            "On branch giorgiafaedda/duoprtoz\n",
            "nothing to commit, working tree clean\n",
            "\n",
            "Changes saved locally! Updated ./giorgiafaedda.ipynb\n"
          ]
        }
      ],
      "source": [
        "# Add files to the list of changes\n",
        "\n",
        "# Check changes' status\n",
        "run_command('git status')\n",
        "\n",
        "edited_file_path=user_file\n",
        "def add_file_to_changes():\n",
        "  global edited_file_path\n",
        "  # Add file to git staging area\n",
        "  run_command(f'git add {edited_file_path}')\n",
        "  run_command('git status')\n",
        "  print('Changes ready to be saved:', edited_file_path)\n",
        "\n",
        "add_file_to_changes()\n",
        "\n",
        "# Commit changes\n",
        "commit_message =  f'Updated {edited_file_path}'\n",
        "run_command(f'git commit -m {commit_message}')\n",
        "print('Changes saved locally!', commit_message)"
      ]
    },
    {
      "cell_type": "code",
      "execution_count": 16,
      "id": "4a2c2522",
      "metadata": {
        "colab": {
          "base_uri": "https://localhost:8080/"
        },
        "id": "4a2c2522",
        "outputId": "3144ca0d-ce34-42b4-c117-7fa57d2a8f01"
      },
      "outputs": [
        {
          "name": "stdout",
          "output_type": "stream",
          "text": [
            "About to push changes on GitHub.com...\n",
            "Sending our changes...\n",
            "\u001b[1;31mremote: \n",
            "remote: Create a pull request for 'giorgiafaedda/svklgcud' on GitHub by visiting:        \n",
            "remote:      https://github.com/ReDI-Data-Analytics-2023/final-project/pull/new/giorgiafaedda/svklgcud        \n",
            "remote: \n",
            "To https://github.com/ReDI-Data-Analytics-2023/final-project.git\n",
            " * [new branch]      giorgiafaedda/svklgcud -> giorgiafaedda/svklgcud\n",
            "\u001b[0;0m\n",
            "branch 'giorgiafaedda/svklgcud' set up to track 'origin/giorgiafaedda/svklgcud'.\n",
            "\n",
            "Changes saved on GitHub.com!\n",
            "Click on the link above to open a Pull Request on GitHub.com\n",
            "(Where it says \"Create a pull request for...\")\n"
          ]
        }
      ],
      "source": [
        "print('About to push changes on GitHub.com...')\n",
        "print('Sending our changes...')\n",
        "run_command(f'git push --set-upstream origin {feature_branch}')\n",
        "print('Changes saved on GitHub.com!')\n",
        "print('Click on the link above to open a Pull Request on GitHub.com')\n",
        "print('(Where it says \"Create a pull request for...\")')"
      ]
    },
    {
      "cell_type": "code",
      "execution_count": null,
      "metadata": {},
      "outputs": [],
      "source": []
    }
  ],
  "metadata": {
    "colab": {
      "provenance": []
    },
    "kernelspec": {
      "display_name": "Python 3 (ipykernel)",
      "language": "python",
      "name": "python3"
    },
    "language_info": {
      "codemirror_mode": {
        "name": "ipython",
        "version": 3
      },
      "file_extension": ".py",
      "mimetype": "text/x-python",
      "name": "python",
      "nbconvert_exporter": "python",
      "pygments_lexer": "ipython3",
      "version": "3.10.0"
    }
  },
  "nbformat": 4,
  "nbformat_minor": 5
}
