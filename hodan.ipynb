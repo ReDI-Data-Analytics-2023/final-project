{
 "cells": [
  {
   "cell_type": "code",
   "execution_count": 21,
   "metadata": {},
   "outputs": [],
   "source": [
    "import csv\n",
    "import pandas as pd\n",
    "\n",
    "\n",
    "# Specify the path to your CSV file\n",
    "csv_file_path = './datasets/social_media_usage_and_mental_health.csv'\n",
    "\n",
    "df = pd.read_csv(csv_file_path)\n",
    "\n",
    "\n",
    "# Convert 'Timestamp' column to pandas datetime format\n",
    "df['Timestamp'] = pd.to_datetime(df['Timestamp'], format='%m/%d/%Y %H:%M:%S')\n",
    "\n",
    "# Create 'Date' and 'Time' columns\n",
    "df['Date'] = df['Timestamp'].dt.date\n",
    "df['Time'] = df['Timestamp'].dt.time\n",
    "\n",
    "# Display the resulting DataFrame\n",
    "#print(df)\n",
    "\n",
    "#df.to_csv('./datasets/modified_dataset.csv', index=False)\n",
    "\n",
    "# Identify and remove entire duplicate rows\n",
    "df.drop_duplicates()\n",
    "\n",
    "# Display the resulting DataFrame without duplicates\n",
    "#print(df)\n",
    "\n",
    "# Split the \"Social Media\" column into a list of social media platforms\n",
    "df['7. What social media platforms do you commonly use?'] = df['7. What social media platforms do you commonly use?'].str.split(', ')\n",
    "\n",
    "# Create binary columns for each unique social media platform\n",
    "social_media_columns = df['7. What social media platforms do you commonly use?'].explode().str.get_dummies().groupby(level=0).max()\n",
    "\n",
    "# Concatenate the binary columns with the original DataFrame\n",
    "df = pd.concat([df, social_media_columns], axis=1)\n",
    "\n",
    "#print(df)\n",
    "#df.to_csv('./datasets/modified_dataset.csv', index=False)\n"
   ]
  },
  {
   "cell_type": "code",
   "execution_count": null,
   "metadata": {},
   "outputs": [],
   "source": []
  }
 ],
 "metadata": {
  "kernelspec": {
   "display_name": "Python 3 (ipykernel)",
   "language": "python",
   "name": "python3"
  },
  "language_info": {
   "codemirror_mode": {
    "name": "ipython",
    "version": 3
   },
   "file_extension": ".py",
   "mimetype": "text/x-python",
   "name": "python",
   "nbconvert_exporter": "python",
   "pygments_lexer": "ipython3",
   "version": "3.9.13"
  }
 },
 "nbformat": 4,
 "nbformat_minor": 2
}
